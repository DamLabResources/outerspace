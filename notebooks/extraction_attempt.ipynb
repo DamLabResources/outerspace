{
 "cells": [
  {
   "cell_type": "code",
   "execution_count": 1,
   "id": "25a93994-61d9-47dd-a9cd-29f36a08e9b2",
   "metadata": {
    "tags": []
   },
   "outputs": [],
   "source": [
    "from os.path import join\n",
    "from Bio import SeqIO\n",
    "import gzip\n",
    "\n",
    "from itertools import islice\n",
    "from Bio.Seq import reverse_complement\n",
    "\n",
    "import regex\n",
    "import tqdm\n",
    "import csv"
   ]
  },
  {
   "cell_type": "code",
   "execution_count": 2,
   "id": "4da4c2bc-1884-4423-b7b1-51658db5f8e0",
   "metadata": {
    "tags": []
   },
   "outputs": [],
   "source": [
    "dir_crispr = '../../../nonn-lab/rachel-test-crispr'\n",
    "\n",
    "dir_read = join(dir_crispr, 'reads/')\n",
    "path1 = join(dir_read, '409-4_S1_L001_R1_001.fastq.gz')\n",
    "path2 = join(dir_read, '409-4_S1_L001_R2_001.fastq.gz')\n",
    "\n",
    "def iterate_reads(path):\n",
    "    \"Iterate reads from a gzipped or regular fastq files\"\n",
    "    \n",
    "    if path.endswith('.gz'):\n",
    "        with gzip.open(path, mode='rt') as handle:\n",
    "            for read in SeqIO.parse(handle, 'fastq'):\n",
    "                yield read\n",
    "    else:\n",
    "        with open(path) as handle:\n",
    "            for read in SeqIO.parse(handle, 'fastq'):\n",
    "                yield read\n",
    "\n",
    "def iterate_readpairs(path1, path2):\n",
    "    \n",
    "    reads1 = iterate_reads(path1)\n",
    "    reads2 = iterate_reads(path2)\n",
    "    \n",
    "    for r1, r2 in zip(reads1, reads2):\n",
    "        yield r1, r2\n",
    "                \n",
    "def get_capture_from_read(reg_exp, read):\n",
    "    \n",
    "    sequence = str(read.seq)\n",
    "    result = reg_exp.findall(sequence)\n",
    "    \n",
    "    if len(result) == 1:\n",
    "        return result[0]\n",
    "    \n",
    "def extract_from_paired_reads(read1_path, read2_path, forward_reg, proto_reg, reverse_reg):\n",
    "    \n",
    "    total = 0\n",
    "    missed = 0\n",
    "    \n",
    "    for read1, read2 in tqdm.tqdm(iterate_readpairs(path1, path2)):\n",
    "        total += 1\n",
    "        foward_umi = get_capture_from_read(forward_reg, read1)\n",
    "        protospacer = get_capture_from_read(proto_reg, read1)\n",
    "        reverse_umi = get_capture_from_read(reverse_reg, read2)\n",
    "        \n",
    "        if foward_umi and protospacer and reverse_umi:\n",
    "            yield {'forward_umi': foward_umi,\n",
    "                   'protospacer': protospacer,\n",
    "                   'reverse_umi': reverse_umi,\n",
    "                   'read_id': read1.id\n",
    "                  }\n",
    "        else:\n",
    "            missed += 1\n",
    "    print(f'Total sequences: {total}\\nMissed sequences: {missed}')\n",
    "    \n",
    "def process_paired_read_file(outpath, path1, path2, forward_umi_reg, protospacer_reg, reverse_umi_reg):\n",
    "    \n",
    "    with open(outpath, mode='w') as handle:\n",
    "        fieldnames = ['read_id', 'forward_umi', 'protospacer', 'reverse_umi']\n",
    "        writer = csv.DictWriter(handle, fieldnames)\n",
    "        writer.writeheader()\n",
    "        \n",
    "        stream = extract_from_paired_reads(path1, path2, forward_umi_reg, protospacer_reg, reverse_umi_reg)\n",
    "        writer.writerows(stream)"
   ]
  },
  {
   "cell_type": "code",
   "execution_count": 3,
   "id": "3ca74b9b-b178-432d-8f02-a4fcf8a47c2b",
   "metadata": {
    "tags": []
   },
   "outputs": [],
   "source": [
    "forward_umi_reg = regex.compile('(?P<UMI>.{8})(?:CTTGGCTTTATATATCTTGTGG){s<=4}', flags=regex.BESTMATCH)\n",
    "protospacer_reg = regex.compile('(?:TATCTTGTGGAAAGGACGAAACACC){s<=4}(?P<protospacer>.{19,21})(?:GTTTAAGTACTCTGTGCTGGAAACAG){s<=4}',\n",
    "                                flags=regex.BESTMATCH)\n",
    "\n",
    "back_umi_forward = 'gtgtgtcagttagggtgtggaa'.upper()\n",
    "back_umi_rc = reverse_complement(back_umi_forward)\n",
    "\n",
    "reverse_umi_reg = regex.compile(f'(?P<UMI>.{{8}})(?:{back_umi_rc}){{s<=4}}', flags=regex.BESTMATCH)\n"
   ]
  },
  {
   "cell_type": "code",
   "execution_count": 4,
   "id": "4d6b7b65-0bd1-46eb-a737-7df49e41ece7",
   "metadata": {
    "tags": []
   },
   "outputs": [],
   "source": [
    "def main():\n",
    "    print('running_main')\n",
    "    csv = '409-4.csv'\n",
    "\n",
    "    process_paired_read_file(csv, path1, path2, forward_umi_reg, protospacer_reg, reverse_umi_reg)"
   ]
  },
  {
   "cell_type": "code",
   "execution_count": 5,
   "id": "1c59dcbd-bebc-42dd-b190-b5205ed8160b",
   "metadata": {
    "tags": []
   },
   "outputs": [
    {
     "name": "stdout",
     "output_type": "stream",
     "text": [
      "running_main\n"
     ]
    },
    {
     "name": "stderr",
     "output_type": "stream",
     "text": [
      "176251it [00:41, 4261.86it/s]"
     ]
    },
    {
     "name": "stdout",
     "output_type": "stream",
     "text": [
      "Total sequences: 176251\n",
      "Missed sequences: 128583\n"
     ]
    },
    {
     "name": "stderr",
     "output_type": "stream",
     "text": [
      "\n"
     ]
    }
   ],
   "source": [
    "main()"
   ]
  },
  {
   "cell_type": "code",
   "execution_count": null,
   "id": "4c55e8b5-0382-46e4-97be-c9ad8d512731",
   "metadata": {},
   "outputs": [],
   "source": []
  },
  {
   "cell_type": "code",
   "execution_count": null,
   "id": "7e122541-2988-4dad-b299-1313dd844439",
   "metadata": {},
   "outputs": [],
   "source": []
  }
 ],
 "metadata": {
  "kernelspec": {
   "display_name": "Python 3 (ipykernel)",
   "language": "python",
   "name": "python3"
  },
  "language_info": {
   "codemirror_mode": {
    "name": "ipython",
    "version": 3
   },
   "file_extension": ".py",
   "mimetype": "text/x-python",
   "name": "python",
   "nbconvert_exporter": "python",
   "pygments_lexer": "ipython3",
   "version": "3.9.9"
  }
 },
 "nbformat": 4,
 "nbformat_minor": 5
}
